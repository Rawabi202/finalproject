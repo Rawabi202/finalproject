{
 "cells": [
  {
   "cell_type": "code",
   "execution_count": 1,
   "id": "7071d1d1",
   "metadata": {},
   "outputs": [],
   "source": [
    "import pandas as pd\n",
    "import numpy as np\n",
    "import matplotlib.pyplot as plt\n",
    "import seaborn as sns"
   ]
  },
  {
   "cell_type": "code",
   "execution_count": 2,
   "id": "151e64dc",
   "metadata": {},
   "outputs": [
    {
     "data": {
      "text/html": [
       "<div>\n",
       "<style scoped>\n",
       "    .dataframe tbody tr th:only-of-type {\n",
       "        vertical-align: middle;\n",
       "    }\n",
       "\n",
       "    .dataframe tbody tr th {\n",
       "        vertical-align: top;\n",
       "    }\n",
       "\n",
       "    .dataframe thead th {\n",
       "        text-align: right;\n",
       "    }\n",
       "</style>\n",
       "<table border=\"1\" class=\"dataframe\">\n",
       "  <thead>\n",
       "    <tr style=\"text-align: right;\">\n",
       "      <th></th>\n",
       "      <th>Brand Name</th>\n",
       "      <th>Device Type</th>\n",
       "      <th>Model Name</th>\n",
       "      <th>Color</th>\n",
       "      <th>Selling Price</th>\n",
       "      <th>Original Price</th>\n",
       "      <th>Display</th>\n",
       "      <th>Rating (Out of 5)</th>\n",
       "      <th>Strap Material</th>\n",
       "      <th>Average Battery Life (in days)</th>\n",
       "      <th>Reviews</th>\n",
       "    </tr>\n",
       "  </thead>\n",
       "  <tbody>\n",
       "    <tr>\n",
       "      <th>0</th>\n",
       "      <td>Xiaomi</td>\n",
       "      <td>FitnessBand</td>\n",
       "      <td>Smart Band 5</td>\n",
       "      <td>Black</td>\n",
       "      <td>2499</td>\n",
       "      <td>2999</td>\n",
       "      <td>AMOLED Display</td>\n",
       "      <td>4.1</td>\n",
       "      <td>Thermoplastic polyurethane</td>\n",
       "      <td>14</td>\n",
       "      <td>NaN</td>\n",
       "    </tr>\n",
       "    <tr>\n",
       "      <th>1</th>\n",
       "      <td>Xiaomi</td>\n",
       "      <td>FitnessBand</td>\n",
       "      <td>Smart Band 4</td>\n",
       "      <td>Black</td>\n",
       "      <td>2099</td>\n",
       "      <td>2499</td>\n",
       "      <td>AMOLED Display</td>\n",
       "      <td>4.2</td>\n",
       "      <td>Thermoplastic polyurethane</td>\n",
       "      <td>14</td>\n",
       "      <td>NaN</td>\n",
       "    </tr>\n",
       "    <tr>\n",
       "      <th>2</th>\n",
       "      <td>Xiaomi</td>\n",
       "      <td>FitnessBand</td>\n",
       "      <td>HMSH01GE</td>\n",
       "      <td>Black</td>\n",
       "      <td>1722</td>\n",
       "      <td>2099</td>\n",
       "      <td>LCD Display</td>\n",
       "      <td>3.5</td>\n",
       "      <td>Leather</td>\n",
       "      <td>14</td>\n",
       "      <td>NaN</td>\n",
       "    </tr>\n",
       "    <tr>\n",
       "      <th>3</th>\n",
       "      <td>Xiaomi</td>\n",
       "      <td>FitnessBand</td>\n",
       "      <td>Smart Band 5</td>\n",
       "      <td>Black</td>\n",
       "      <td>2469</td>\n",
       "      <td>2999</td>\n",
       "      <td>AMOLED Display</td>\n",
       "      <td>4.1</td>\n",
       "      <td>Thermoplastic polyurethane</td>\n",
       "      <td>14</td>\n",
       "      <td>NaN</td>\n",
       "    </tr>\n",
       "    <tr>\n",
       "      <th>4</th>\n",
       "      <td>Xiaomi</td>\n",
       "      <td>FitnessBand</td>\n",
       "      <td>Band 3</td>\n",
       "      <td>Black</td>\n",
       "      <td>1799</td>\n",
       "      <td>2199</td>\n",
       "      <td>OLED Display</td>\n",
       "      <td>4.3</td>\n",
       "      <td>Plastic</td>\n",
       "      <td>7</td>\n",
       "      <td>NaN</td>\n",
       "    </tr>\n",
       "  </tbody>\n",
       "</table>\n",
       "</div>"
      ],
      "text/plain": [
       "  Brand Name  Device Type    Model Name  Color  Selling Price  Original Price  \\\n",
       "0     Xiaomi  FitnessBand  Smart Band 5  Black           2499            2999   \n",
       "1     Xiaomi  FitnessBand  Smart Band 4  Black           2099            2499   \n",
       "2     Xiaomi  FitnessBand      HMSH01GE  Black           1722            2099   \n",
       "3     Xiaomi  FitnessBand  Smart Band 5  Black           2469            2999   \n",
       "4     Xiaomi  FitnessBand        Band 3  Black           1799            2199   \n",
       "\n",
       "          Display  Rating (Out of 5)              Strap Material  \\\n",
       "0  AMOLED Display                4.1  Thermoplastic polyurethane   \n",
       "1  AMOLED Display                4.2  Thermoplastic polyurethane   \n",
       "2     LCD Display                3.5                     Leather   \n",
       "3  AMOLED Display                4.1  Thermoplastic polyurethane   \n",
       "4    OLED Display                4.3                     Plastic   \n",
       "\n",
       "   Average Battery Life (in days)  Reviews  \n",
       "0                              14      NaN  \n",
       "1                              14      NaN  \n",
       "2                              14      NaN  \n",
       "3                              14      NaN  \n",
       "4                               7      NaN  "
      ]
     },
     "execution_count": 2,
     "metadata": {},
     "output_type": "execute_result"
    }
   ],
   "source": [
    "updated_data = pd.read_csv(\"Fitness_trackers.csv\", thousands=',')\n",
    "updated_data.head()\n"
   ]
  },
  {
   "cell_type": "code",
   "execution_count": 4,
   "id": "3a826831",
   "metadata": {},
   "outputs": [],
   "source": [
    "#data preparation stage"
   ]
  },
  {
   "cell_type": "code",
   "execution_count": 5,
   "id": "a04ef904",
   "metadata": {},
   "outputs": [
    {
     "data": {
      "text/html": [
       "<div>\n",
       "<style scoped>\n",
       "    .dataframe tbody tr th:only-of-type {\n",
       "        vertical-align: middle;\n",
       "    }\n",
       "\n",
       "    .dataframe tbody tr th {\n",
       "        vertical-align: top;\n",
       "    }\n",
       "\n",
       "    .dataframe thead th {\n",
       "        text-align: right;\n",
       "    }\n",
       "</style>\n",
       "<table border=\"1\" class=\"dataframe\">\n",
       "  <thead>\n",
       "    <tr style=\"text-align: right;\">\n",
       "      <th></th>\n",
       "      <th>Brand Name</th>\n",
       "      <th>Device Type</th>\n",
       "      <th>Model Name</th>\n",
       "      <th>Color</th>\n",
       "      <th>Selling Price</th>\n",
       "      <th>Original Price</th>\n",
       "      <th>Display</th>\n",
       "      <th>Rating (Out of 5)</th>\n",
       "      <th>Strap Material</th>\n",
       "      <th>Average Battery Life (in days)</th>\n",
       "    </tr>\n",
       "  </thead>\n",
       "  <tbody>\n",
       "    <tr>\n",
       "      <th>0</th>\n",
       "      <td>Xiaomi</td>\n",
       "      <td>FitnessBand</td>\n",
       "      <td>Smart Band 5</td>\n",
       "      <td>Black</td>\n",
       "      <td>2499</td>\n",
       "      <td>2999</td>\n",
       "      <td>AMOLED Display</td>\n",
       "      <td>4.1</td>\n",
       "      <td>Thermoplastic polyurethane</td>\n",
       "      <td>14</td>\n",
       "    </tr>\n",
       "    <tr>\n",
       "      <th>1</th>\n",
       "      <td>Xiaomi</td>\n",
       "      <td>FitnessBand</td>\n",
       "      <td>Smart Band 4</td>\n",
       "      <td>Black</td>\n",
       "      <td>2099</td>\n",
       "      <td>2499</td>\n",
       "      <td>AMOLED Display</td>\n",
       "      <td>4.2</td>\n",
       "      <td>Thermoplastic polyurethane</td>\n",
       "      <td>14</td>\n",
       "    </tr>\n",
       "    <tr>\n",
       "      <th>2</th>\n",
       "      <td>Xiaomi</td>\n",
       "      <td>FitnessBand</td>\n",
       "      <td>HMSH01GE</td>\n",
       "      <td>Black</td>\n",
       "      <td>1722</td>\n",
       "      <td>2099</td>\n",
       "      <td>LCD Display</td>\n",
       "      <td>3.5</td>\n",
       "      <td>Leather</td>\n",
       "      <td>14</td>\n",
       "    </tr>\n",
       "    <tr>\n",
       "      <th>3</th>\n",
       "      <td>Xiaomi</td>\n",
       "      <td>FitnessBand</td>\n",
       "      <td>Smart Band 5</td>\n",
       "      <td>Black</td>\n",
       "      <td>2469</td>\n",
       "      <td>2999</td>\n",
       "      <td>AMOLED Display</td>\n",
       "      <td>4.1</td>\n",
       "      <td>Thermoplastic polyurethane</td>\n",
       "      <td>14</td>\n",
       "    </tr>\n",
       "    <tr>\n",
       "      <th>4</th>\n",
       "      <td>Xiaomi</td>\n",
       "      <td>FitnessBand</td>\n",
       "      <td>Band 3</td>\n",
       "      <td>Black</td>\n",
       "      <td>1799</td>\n",
       "      <td>2199</td>\n",
       "      <td>OLED Display</td>\n",
       "      <td>4.3</td>\n",
       "      <td>Plastic</td>\n",
       "      <td>7</td>\n",
       "    </tr>\n",
       "  </tbody>\n",
       "</table>\n",
       "</div>"
      ],
      "text/plain": [
       "  Brand Name  Device Type    Model Name  Color  Selling Price  Original Price  \\\n",
       "0     Xiaomi  FitnessBand  Smart Band 5  Black           2499            2999   \n",
       "1     Xiaomi  FitnessBand  Smart Band 4  Black           2099            2499   \n",
       "2     Xiaomi  FitnessBand      HMSH01GE  Black           1722            2099   \n",
       "3     Xiaomi  FitnessBand  Smart Band 5  Black           2469            2999   \n",
       "4     Xiaomi  FitnessBand        Band 3  Black           1799            2199   \n",
       "\n",
       "          Display  Rating (Out of 5)              Strap Material  \\\n",
       "0  AMOLED Display                4.1  Thermoplastic polyurethane   \n",
       "1  AMOLED Display                4.2  Thermoplastic polyurethane   \n",
       "2     LCD Display                3.5                     Leather   \n",
       "3  AMOLED Display                4.1  Thermoplastic polyurethane   \n",
       "4    OLED Display                4.3                     Plastic   \n",
       "\n",
       "   Average Battery Life (in days)  \n",
       "0                              14  \n",
       "1                              14  \n",
       "2                              14  \n",
       "3                              14  \n",
       "4                               7  "
      ]
     },
     "execution_count": 5,
     "metadata": {},
     "output_type": "execute_result"
    }
   ],
   "source": [
    "updated_data.drop(['Reviews'], axis=1, inplace=True)\n",
    "updated_data.head()"
   ]
  },
  {
   "cell_type": "code",
   "execution_count": 6,
   "id": "77526c19",
   "metadata": {},
   "outputs": [
    {
     "data": {
      "text/plain": [
       "Brand Name                        False\n",
       "Device Type                       False\n",
       "Model Name                        False\n",
       "Color                             False\n",
       "Selling Price                     False\n",
       "Original Price                    False\n",
       "Display                           False\n",
       "Rating (Out of 5)                  True\n",
       "Strap Material                    False\n",
       "Average Battery Life (in days)    False\n",
       "dtype: bool"
      ]
     },
     "execution_count": 6,
     "metadata": {},
     "output_type": "execute_result"
    }
   ],
   "source": [
    "updated_data.isna().any()"
   ]
  },
  {
   "cell_type": "code",
   "execution_count": 7,
   "id": "fbfb93f4",
   "metadata": {},
   "outputs": [
    {
     "data": {
      "text/plain": [
       "Brand Name                        False\n",
       "Device Type                       False\n",
       "Model Name                        False\n",
       "Color                             False\n",
       "Selling Price                     False\n",
       "Original Price                    False\n",
       "Display                           False\n",
       "Rating (Out of 5)                 False\n",
       "Strap Material                    False\n",
       "Average Battery Life (in days)    False\n",
       "dtype: bool"
      ]
     },
     "execution_count": 7,
     "metadata": {},
     "output_type": "execute_result"
    }
   ],
   "source": [
    "updated_data['Rating (Out of 5)'].fillna(0,inplace=True)\n",
    "updated_data.isna().any()"
   ]
  },
  {
   "cell_type": "code",
   "execution_count": 8,
   "id": "9ae3dcf6",
   "metadata": {},
   "outputs": [],
   "source": [
    "#Obtain basic information about the data."
   ]
  },
  {
   "cell_type": "code",
   "execution_count": 9,
   "id": "12b4b387",
   "metadata": {},
   "outputs": [
    {
     "name": "stdout",
     "output_type": "stream",
     "text": [
      "<class 'pandas.core.frame.DataFrame'>\n",
      "RangeIndex: 565 entries, 0 to 564\n",
      "Data columns (total 10 columns):\n",
      " #   Column                          Non-Null Count  Dtype  \n",
      "---  ------                          --------------  -----  \n",
      " 0   Brand Name                      565 non-null    object \n",
      " 1   Device Type                     565 non-null    object \n",
      " 2   Model Name                      565 non-null    object \n",
      " 3   Color                           565 non-null    object \n",
      " 4   Selling Price                   565 non-null    int64  \n",
      " 5   Original Price                  565 non-null    int64  \n",
      " 6   Display                         565 non-null    object \n",
      " 7   Rating (Out of 5)               565 non-null    float64\n",
      " 8   Strap Material                  565 non-null    object \n",
      " 9   Average Battery Life (in days)  565 non-null    int64  \n",
      "dtypes: float64(1), int64(3), object(6)\n",
      "memory usage: 44.3+ KB\n"
     ]
    }
   ],
   "source": [
    "updated_data.info()"
   ]
  },
  {
   "cell_type": "code",
   "execution_count": 10,
   "id": "f973a83f",
   "metadata": {},
   "outputs": [
    {
     "data": {
      "text/html": [
       "<div>\n",
       "<style scoped>\n",
       "    .dataframe tbody tr th:only-of-type {\n",
       "        vertical-align: middle;\n",
       "    }\n",
       "\n",
       "    .dataframe tbody tr th {\n",
       "        vertical-align: top;\n",
       "    }\n",
       "\n",
       "    .dataframe thead th {\n",
       "        text-align: right;\n",
       "    }\n",
       "</style>\n",
       "<table border=\"1\" class=\"dataframe\">\n",
       "  <thead>\n",
       "    <tr style=\"text-align: right;\">\n",
       "      <th></th>\n",
       "      <th>Selling Price</th>\n",
       "      <th>Original Price</th>\n",
       "      <th>Rating (Out of 5)</th>\n",
       "      <th>Average Battery Life (in days)</th>\n",
       "    </tr>\n",
       "  </thead>\n",
       "  <tbody>\n",
       "    <tr>\n",
       "      <th>count</th>\n",
       "      <td>565.000000</td>\n",
       "      <td>565.000000</td>\n",
       "      <td>565.000000</td>\n",
       "      <td>565.000000</td>\n",
       "    </tr>\n",
       "    <tr>\n",
       "      <th>mean</th>\n",
       "      <td>22110.373451</td>\n",
       "      <td>25365.361062</td>\n",
       "      <td>3.848142</td>\n",
       "      <td>9.026549</td>\n",
       "    </tr>\n",
       "    <tr>\n",
       "      <th>std</th>\n",
       "      <td>19914.926066</td>\n",
       "      <td>20384.028759</td>\n",
       "      <td>1.269186</td>\n",
       "      <td>7.868670</td>\n",
       "    </tr>\n",
       "    <tr>\n",
       "      <th>min</th>\n",
       "      <td>1195.000000</td>\n",
       "      <td>1599.000000</td>\n",
       "      <td>0.000000</td>\n",
       "      <td>1.000000</td>\n",
       "    </tr>\n",
       "    <tr>\n",
       "      <th>25%</th>\n",
       "      <td>8990.000000</td>\n",
       "      <td>12999.000000</td>\n",
       "      <td>3.900000</td>\n",
       "      <td>2.000000</td>\n",
       "    </tr>\n",
       "    <tr>\n",
       "      <th>50%</th>\n",
       "      <td>15995.000000</td>\n",
       "      <td>19995.000000</td>\n",
       "      <td>4.200000</td>\n",
       "      <td>7.000000</td>\n",
       "    </tr>\n",
       "    <tr>\n",
       "      <th>75%</th>\n",
       "      <td>29900.000000</td>\n",
       "      <td>32900.000000</td>\n",
       "      <td>4.500000</td>\n",
       "      <td>14.000000</td>\n",
       "    </tr>\n",
       "    <tr>\n",
       "      <th>max</th>\n",
       "      <td>122090.000000</td>\n",
       "      <td>122090.000000</td>\n",
       "      <td>5.000000</td>\n",
       "      <td>45.000000</td>\n",
       "    </tr>\n",
       "  </tbody>\n",
       "</table>\n",
       "</div>"
      ],
      "text/plain": [
       "       Selling Price  Original Price  Rating (Out of 5)  \\\n",
       "count     565.000000      565.000000         565.000000   \n",
       "mean    22110.373451    25365.361062           3.848142   \n",
       "std     19914.926066    20384.028759           1.269186   \n",
       "min      1195.000000     1599.000000           0.000000   \n",
       "25%      8990.000000    12999.000000           3.900000   \n",
       "50%     15995.000000    19995.000000           4.200000   \n",
       "75%     29900.000000    32900.000000           4.500000   \n",
       "max    122090.000000   122090.000000           5.000000   \n",
       "\n",
       "       Average Battery Life (in days)  \n",
       "count                      565.000000  \n",
       "mean                         9.026549  \n",
       "std                          7.868670  \n",
       "min                          1.000000  \n",
       "25%                          2.000000  \n",
       "50%                          7.000000  \n",
       "75%                         14.000000  \n",
       "max                         45.000000  "
      ]
     },
     "execution_count": 10,
     "metadata": {},
     "output_type": "execute_result"
    }
   ],
   "source": [
    "updated_data.describe()"
   ]
  },
  {
   "cell_type": "code",
   "execution_count": null,
   "id": "3eb5f7fa",
   "metadata": {},
   "outputs": [],
   "source": [
    "#Top 5 company "
   ]
  },
  {
   "cell_type": "code",
   "execution_count": 11,
   "id": "6349ce4f",
   "metadata": {},
   "outputs": [
    {
     "data": {
      "text/plain": [
       "Brand Name\n",
       "FOSSIL      133\n",
       "GARMIN      101\n",
       "APPLE        86\n",
       "FitBit       51\n",
       "SAMSUNG      48\n",
       "Name: Brand Name, dtype: int64"
      ]
     },
     "execution_count": 11,
     "metadata": {},
     "output_type": "execute_result"
    }
   ],
   "source": [
    "updated_data[\"Brand Name\"].groupby(updated_data[\"Brand Name\"]).count().sort_values(ascending=False).iloc[:5]"
   ]
  },
  {
   "cell_type": "code",
   "execution_count": 12,
   "id": "d2941e7d",
   "metadata": {},
   "outputs": [
    {
     "data": {
      "text/plain": [
       "<AxesSubplot:xlabel='count', ylabel='Brand Name'>"
      ]
     },
     "execution_count": 12,
     "metadata": {},
     "output_type": "execute_result"
    },
    {
     "data": {
      "image/png": "[encoded data removed]",
      "text/plain": [
       "<Figure size 432x288 with 1 Axes>"
      ]
     },
     "metadata": {},
     "output_type": "display_data"
    }
   ],
   "source": [
    "sns.set_style(\"white\")\n",
    "sns.countplot(y=\"Brand Name\", hue=\"Device Type\", data=updated_data, palette=[\"#560bad\",\"#4361EE\"], order=updated_data[\"Brand Name\"].value_counts().iloc[:5].index)"
   ]
  },
  {
   "cell_type": "code",
   "execution_count": 13,
   "id": "811591db",
   "metadata": {},
   "outputs": [],
   "source": [
    "#Are fitness trackers with highest ratings are they more expensive?"
   ]
  },
  {
   "cell_type": "code",
   "execution_count": 14,
   "id": "14e92f9b",
   "metadata": {},
   "outputs": [
    {
     "data": {
      "text/plain": [
       "Brand Name\n",
       "APPLE       4.5\n",
       "OnePlus     4.3\n",
       "FOSSIL      4.2\n",
       "SAMSUNG     4.2\n",
       "Honor       4.2\n",
       "FitBit      4.2\n",
       "Xiaomi      4.2\n",
       "Huawei      4.2\n",
       "huami       4.2\n",
       "realme      4.1\n",
       "Name: Rating (Out of 5), dtype: float64"
      ]
     },
     "execution_count": 14,
     "metadata": {},
     "output_type": "execute_result"
    }
   ],
   "source": [
    "round(updated_data.groupby(\"Brand Name\")[\"Rating (Out of 5)\"].mean().sort_values(ascending=False).iloc[:10],1)"
   ]
  },
  {
   "cell_type": "code",
   "execution_count": 15,
   "id": "7f78ef34",
   "metadata": {},
   "outputs": [
    {
     "data": {
      "image/png": "[encoded data removed]",
      "text/plain": [
       "<Figure size 720x360 with 1 Axes>"
      ]
     },
     "metadata": {},
     "output_type": "display_data"
    }
   ],
   "source": [
    "list = [\"realme\",\"Honor\",\"FOSSIL \",\"SAMSUNG\",\"OnePlus\",\"FitBit\",\"Xiaomi\",\"Huawei\",\"huami\",\"APPLE\"]\n",
    "series = updated_data[\"Brand Name\"].isin(list)\n",
    "\n",
    "df_f = updated_data[series]\n",
    "fig, ax = plt.subplots(figsize=(10, 5))\n",
    "ax = sns.stripplot(x=\"Rating (Out of 5)\", y=\"Selling Price\", data=df_f, hue=\"Brand Name\", size=7, marker=\"o\")"
   ]
  },
  {
   "cell_type": "code",
   "execution_count": 16,
   "id": "1175523c",
   "metadata": {},
   "outputs": [],
   "source": [
    "#Common color"
   ]
  },
  {
   "cell_type": "code",
   "execution_count": 28,
   "id": "926ee4b0",
   "metadata": {},
   "outputs": [
    {
     "data": {
      "text/plain": [
       "<AxesSubplot:xlabel='count', ylabel='Color'>"
      ]
     },
     "execution_count": 28,
     "metadata": {},
     "output_type": "execute_result"
    },
    {
     "data": {
      "image/png": "[encoded data removed]",
      "text/plain": [
       "<Figure size 432x288 with 1 Axes>"
      ]
     },
     "metadata": {},
     "output_type": "display_data"
    }
   ],
   "source": [
    "sns.countplot(y=\"Color\", hue=\"Device Type\", data=updated_data,\n",
    "             order=updated_data[\"Color\"].value_counts().iloc[:9].index)"
   ]
  },
  {
   "cell_type": "code",
   "execution_count": null,
   "id": "57c0649d",
   "metadata": {},
   "outputs": [],
   "source": []
  },
  {
   "cell_type": "code",
   "execution_count": null,
   "id": "488fef41",
   "metadata": {},
   "outputs": [],
   "source": []
  },
  {
   "cell_type": "code",
   "execution_count": null,
   "id": "9bc09b9c",
   "metadata": {},
   "outputs": [],
   "source": []
  },
  {
   "cell_type": "code",
   "execution_count": null,
   "id": "b4736a9d",
   "metadata": {},
   "outputs": [],
   "source": []
  },
  {
   "cell_type": "code",
   "execution_count": 18,
   "id": "c2718398",
   "metadata": {},
   "outputs": [],
   "source": [
    "#Does expensive fitness trackers products have a better battery life?"
   ]
  },
  {
   "cell_type": "code",
   "execution_count": 19,
   "id": "d7d0685f",
   "metadata": {},
   "outputs": [
    {
     "data": {
      "text/plain": [
       "Brand Name\n",
       "GARMIN      17.0\n",
       "huami       16.0\n",
       "Oppo        14.0\n",
       "Honor       12.0\n",
       "Xiaomi      12.0\n",
       "SAMSUNG     12.0\n",
       "Huawei      11.0\n",
       "realme      10.0\n",
       "OnePlus      9.0\n",
       "boAt         8.0\n",
       "FitBit       7.0\n",
       "GOQii        7.0\n",
       "LAVA         7.0\n",
       "Noise        7.0\n",
       "LCARE        6.0\n",
       "Fastrack     6.0\n",
       "Noise        5.0\n",
       "FOSSIL       5.0\n",
       "Infinix      4.0\n",
       "APPLE        1.0\n",
       "Name: Average Battery Life (in days), dtype: float64"
      ]
     },
     "execution_count": 19,
     "metadata": {},
     "output_type": "execute_result"
    }
   ],
   "source": [
    "round(updated_data.groupby(\"Brand Name\")[\"Average Battery Life (in days)\"].mean(),0).sort_values(ascending=False)"
   ]
  },
  {
   "cell_type": "code",
   "execution_count": 24,
   "id": "7f51eadc",
   "metadata": {},
   "outputs": [
    {
     "data": {
      "image/png": "[encoded data removed]",
      "text/plain": [
       "<Figure size 648x432 with 1 Axes>"
      ]
     },
     "metadata": {},
     "output_type": "display_data"
    }
   ],
   "source": [
    "data={\"Brand Name\":[\"huami\",\"GARMIN\",\"Oppo\",\"Xiaomi\",\"SAMSUNG\",\"Honor\",\"Huawei\",\"realme\",\"OnePlus\",\"boAt\",\"Noise\",\"GOQii\",\"LAVA\",\"FitBit\",\"LCARE\",\"Fastrack\",\"Noise\",\"Infinix\",\"FOSSIL\",\"APPLE\"],\n",
    "      \"Avg Battery Life\":[16.0,17.0,14.0,12.0,12.0,12.0,11.0,10.0,9.0,8.0,7.0,7.0,7.0,7.0,6.0,6.0,5.0,4.0,5.0,1.0]}\n",
    "\n",
    "\n",
    "df_battery = pd.DataFrame(data)\n",
    "\n",
    "sns.set_style(\"white\")\n",
    "plt.figure(figsize=(9, 6))\n",
    "\n",
    "ax = sns.barplot(x=\"Avg Battery Life\", y=\"Brand Name\", data=df_battery)"
   ]
  },
  {
   "cell_type": "code",
   "execution_count": null,
   "id": "52ce0f9c",
   "metadata": {},
   "outputs": [],
   "source": []
  },
  {
   "cell_type": "code",
   "execution_count": null,
   "id": "a4a0cdd5",
   "metadata": {},
   "outputs": [],
   "source": []
  },
  {
   "cell_type": "code",
   "execution_count": null,
   "id": "e6b613b3",
   "metadata": {},
   "outputs": [],
   "source": []
  },
  {
   "cell_type": "code",
   "execution_count": null,
   "id": "57babbab",
   "metadata": {},
   "outputs": [],
   "source": []
  },
  {
   "cell_type": "code",
   "execution_count": null,
   "id": "51ef3df9",
   "metadata": {},
   "outputs": [],
   "source": []
  }
 ],
 "metadata": {
  "kernelspec": {
   "display_name": "Python 3 (ipykernel)",
   "language": "python",
   "name": "python3"
  },
  "language_info": {
   "codemirror_mode": {
    "name": "ipython",
    "version": 3
   },
   "file_extension": ".py",
   "mimetype": "text/x-python",
   "name": "python",
   "nbconvert_exporter": "python",
   "pygments_lexer": "ipython3",
   "version": "3.9.12"
  }
 },
 "nbformat": 4,
 "nbformat_minor": 5
}
